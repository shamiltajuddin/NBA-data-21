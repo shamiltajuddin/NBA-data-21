{
 "cells": [
  {
   "cell_type": "code",
   "execution_count": 1,
   "id": "6e9df71e",
   "metadata": {},
   "outputs": [],
   "source": [
    "#Dependencies and Setup\n",
    "%matplotlib inline\n",
    "import matplotlib.pyplot as plt\n",
    "import pandas as pd\n",
    "import numpy as np\n",
    "import sklearn"
   ]
  },
  {
   "cell_type": "code",
   "execution_count": 2,
   "id": "7a8a246d",
   "metadata": {},
   "outputs": [],
   "source": [
    "#Hide Warning Messages\n",
    "import warnings\n",
    "warnings.filterwarnings('ignore')"
   ]
  },
  {
   "cell_type": "code",
   "execution_count": 8,
   "id": "f81d8510",
   "metadata": {},
   "outputs": [],
   "source": [
    "#Files to Load\n",
    "games_load = \"games.csv\"\n",
    "games_details_load = \"games_details.csv\"\n",
    "players_load = \"players.csv\"\n",
    "ranking_load = \"ranking.csv\"\n",
    "teams_load = \"teams.csv\""
   ]
  },
  {
   "cell_type": "code",
   "execution_count": 9,
   "id": "7f6336a4",
   "metadata": {},
   "outputs": [],
   "source": [
    "#Read all the NBA Data\n",
    "games_data= pd.read_csv(games_load)\n",
    "games_details_data= pd.read_csv(games_details_load)\n",
    "players_data= pd.read_csv(players_load)\n",
    "rankings_data= pd.read_csv(ranking_load)\n",
    "teams_data= pd.read_csv(teams_load)"
   ]
  },
  {
   "cell_type": "code",
   "execution_count": null,
   "id": "e069416f",
   "metadata": {},
   "outputs": [],
   "source": []
  }
 ],
 "metadata": {
  "kernelspec": {
   "display_name": "Python 3",
   "language": "python",
   "name": "python3"
  },
  "language_info": {
   "codemirror_mode": {
    "name": "ipython",
    "version": 3
   },
   "file_extension": ".py",
   "mimetype": "text/x-python",
   "name": "python",
   "nbconvert_exporter": "python",
   "pygments_lexer": "ipython3",
   "version": "3.9.5"
  }
 },
 "nbformat": 4,
 "nbformat_minor": 5
}
